{
 "cells": [
  {
   "cell_type": "markdown",
   "metadata": {},
   "source": [
    "# Question 1 (20%)\n",
    "Use only ONE line to print multiples of 5 in [0,100] (Opt1: For loop, Opt2: lambda)"
   ]
  },
  {
   "cell_type": "code",
   "execution_count": 34,
   "metadata": {},
   "outputs": [
    {
     "name": "stdout",
     "output_type": "stream",
     "text": [
      "[0, 5, 10, 15, 20, 25, 30, 35, 40, 45, 50, 55, 60, 65, 70, 75, 80, 85, 90, 95, 100]\n"
     ]
    }
   ],
   "source": [
    "print(list(filter(lambda x: x%5==0,range(0,101))))"
   ]
  },
  {
   "cell_type": "markdown",
   "metadata": {},
   "source": [
    "# Question 2 (25%)\n",
    "* Write a function of Python that requires an argument of a year number, e.g., 2020. \n",
    "* The function is to return the number of days of the argument. \n",
    "* Invalid input should be pointed out \"Invalid input\".\n",
    "* The program should be executed continuously."
   ]
  },
  {
   "cell_type": "code",
   "execution_count": null,
   "metadata": {},
   "outputs": [
    {
     "name": "stdout",
     "output_type": "stream",
     "text": [
      "Note： Please input negative sign in front of the year if you would like to check year BC (eg. input -1 for 1 BC).  \n",
      "\n",
      "Please enter a year: 10000\n",
      "Number of days for AD 10000 is 366 \n",
      "\n",
      "Please enter a year: -10000\n",
      "Number of days for 10000 BC is 365 \n",
      "\n",
      "Please enter a year: 0\n",
      "This is an invalid input \n",
      "\n",
      "Please enter a year: 12354984\n",
      "This is an invalid input \n",
      "\n",
      "Please enter a year: Tracy\n",
      "This is an invalid input \n",
      "\n"
     ]
    }
   ],
   "source": [
    "def checkdays(year):\n",
    "    if year % 4 == 0 and (year % 400 == 0 or year % 100 != 0):\n",
    "        return 366\n",
    "    else:\n",
    "        return 365\n",
    "    \n",
    "# implement your logic\n",
    "print('Note： Please input negative sign in front of the year if you would like to check year BC (eg. input -1 for 1 BC). ',\"\\n\")\n",
    "\n",
    "while True:\n",
    "    try:\n",
    "        Testing=int(input(\"Please enter a year: \"))\n",
    "    \n",
    "        if Testing > 0 and Testing<=10000: #Assume year until AD 10000\n",
    "            print(\"Number of days for AD\",str(Testing), \"is\",checkdays(Testing),\"\\n\")\n",
    "                \n",
    "        elif Testing < 0 and Testing >=-10000: #Assume starting from 10000 BC\n",
    "            print(\"Number of days for\",abs(Testing), \"BC is\",checkdays(Testing+1),\"\\n\")\n",
    "            \n",
    "        else:\n",
    "            print('This is an invalid input',\"\\n\")\n",
    "            \n",
    "    except:\n",
    "        print('This is an invalid input',\"\\n\") "
   ]
  },
  {
   "cell_type": "markdown",
   "metadata": {},
   "source": [
    "# Question 3 (25%)\n",
    "* Given a grade table in a Dictionary structure. \n",
    "  * Write a function to return the highest score, the lowest score, average score.\n",
    "  * Write a function to generate a dictionary that uses 'class' as key and 'name' as values, e.g., {'one':'Alice, Bob, ...'}\n",
    "  * Write the newly generated dictionary into a file \"data.json\" in [JSON format](https://stackabuse.com/reading-and-writing-json-to-a-file-in-python/)."
   ]
  },
  {
   "cell_type": "code",
   "execution_count": 35,
   "metadata": {},
   "outputs": [
    {
     "name": "stdout",
     "output_type": "stream",
     "text": [
      "('Highest score: 95', 'Lowest score: 80', 'Average score: 89')\n",
      "{'one': 'Alice, Cindy, Frank', 'two': 'Bob, Daniel, Elisa'}\n"
     ]
    }
   ],
   "source": [
    "import json\n",
    "\n",
    "grades = [\n",
    "    {'name': 'Alice', 'class': 'one', 'score': 85},\n",
    "    {'name': 'Bob', 'class': 'two', 'score': 95},\n",
    "    {'name': 'Cindy', 'class': 'one', 'score': 90},\n",
    "    {'name': 'Daniel', 'class': 'two', 'score': 90},\n",
    "    {'name': 'Elisa', 'class': 'two', 'score': 80},\n",
    "    {'name': 'Frank', 'class': 'one', 'score': 95}\n",
    "]\n",
    "\n",
    "def stat(grades):\n",
    "\n",
    "    seq = [x['score'] for x in grades]\n",
    "    \n",
    "    highest='Highest score: '+str(max(seq))\n",
    "    lowest='Lowest score: '+str(min(seq))\n",
    "    average='Average score: '+str(int((sum(seq)/len(seq))))\n",
    "        \n",
    "    return highest, lowest, average\n",
    "\n",
    "def generate(grades):\n",
    "    \n",
    "    classes={}\n",
    "   \n",
    "    for i in grades:\n",
    "        if i.get(key[0]) in classes:\n",
    "            classes[i.get(key[0])]=classes[i.get(key[0])]+\", \"+i.get(key[1])\n",
    "        else:\n",
    "            classes[i.get(key[0])]=i.get(key[1])\n",
    "    \n",
    "    return classes\n",
    "\n",
    "# implement your logic here\n",
    "print(stat(grades))\n",
    "\n",
    "key=['class','name']\n",
    "print(generate(grades))\n",
    "\n",
    "\n",
    "# write file in JSON format\n",
    "with open('data.json', 'w') as outfile:\n",
    "    # implement your logic here\n",
    "    # e.g., json.dump(data, outfile)\n",
    "    json.dump(stat(grades),outfile)\n",
    "    json.dump(generate(grades),outfile)"
   ]
  },
  {
   "cell_type": "markdown",
   "metadata": {},
   "source": [
    "# Question 4 (30%)\n",
    "Given a List L where the data are extracted from a CSV file \"Salaries.csv\", your task is to answer the following questions\n",
    "1. Finding the highest \"Total Pay with Benefits\" Employee whose Job Title is 'TRANSIT SUPERVISOR'.\n",
    "2. Finding the highest \"Total Pay\" Employee whose Job Title contains 'fire dept'. Hints: you may need to learn how to use [find](https://www.geeksforgeeks.org/string-find-python/) in Python.\n",
    "3. Finding the top-5 highest \"Total Pay\" Employee whose job status is PT."
   ]
  },
  {
   "cell_type": "code",
   "execution_count": 36,
   "metadata": {},
   "outputs": [
    {
     "name": "stdout",
     "output_type": "stream",
     "text": [
      "1. The highest \"Totyal Pay with Benefits\" Employee whose Job Title is \"TRANSIT SUPERVISOR\" is EVETTE GEER-STEVENS, with the amount of 230239.98\n",
      "\n",
      "2. The highest \"Totyal Pay\" Employee whose Job Title contains 'fire dept' is \"Asst Chf of Dept (Fire Dept)\" is David L Franklin, with the amount of 333888.32\n",
      "\n",
      "3. Top-5 highest \"Total Pay\" Employee whose job status is PT are: \n",
      "   1. David Shinn, with the amount of 471952.64\n",
      "   2. William J Coaker Jr., with the amount of 339653.7\n",
      "   3. Richard L Corriea, with the amount of 322143.1\n",
      "   4. Gregory Corrales, with the amount of 286436.35\n",
      "   5. Robert Velarde, with the amount of 277581.77\n"
     ]
    }
   ],
   "source": [
    "import csv\n",
    "import itertools\n",
    "\n",
    "with open('sf-salaries/Salaries.csv', mode='r') as csv_file:\n",
    "    csv_reader = csv.DictReader(csv_file)\n",
    "    L=[]\n",
    "    for row in csv_reader:\n",
    "        L.append(\n",
    "            [row[\"EmployeeName\"],row[\"JobTitle\"],row[\"BasePay\"],row[\"OvertimePay\"],\n",
    "             row[\"OtherPay\"],row[\"Benefits\"],row[\"TotalPay\"],row[\"TotalPayBenefits\"],\n",
    "             row[\"Year\"],row[\"Status\"]]\n",
    "        )\n",
    "        \n",
    "    #print(L[23]) # this will print the 23rd record of the csv file\n",
    "\n",
    "#implement your answer 1 here\n",
    "def TotalPayWB(val):\n",
    "    return float(val[7])\n",
    "\n",
    "list_1=list(filter(lambda x:(x[1]=='TRANSIT SUPERVISOR'),L))\n",
    "list_1.sort(key=TotalPayWB,reverse=True)\n",
    "\n",
    "print('''1. The highest \"Totyal Pay with Benefits\" Employee whose Job Title is \"'''\n",
    "      +list_1[0][1]\n",
    "      +'''\" is '''\n",
    "      +list_1[0][0]\n",
    "      +''', with the amount of '''\n",
    "      +list_1[0][7]\n",
    "      +\"\\n\")\n",
    "\n",
    "\n",
    "# implement your answer 2 here\n",
    "def TotalPay1(val):\n",
    "    return float(val[2])\n",
    "\n",
    "list_2=[]\n",
    "\n",
    "for i in L:\n",
    "    if (i[1].upper().find('fire dept'.upper())) != -1:\n",
    "        list_2.append([i[0],i[1],i[6]])\n",
    "\n",
    "list_2.sort(key=TotalPay1,reverse=True)\n",
    "\n",
    "print('''2. The highest \"Totyal Pay\" Employee whose Job Title contains 'fire dept' is \"'''\n",
    "      +list_2[0][1]\n",
    "      +'''\" is '''\n",
    "      +list_2[0][0]\n",
    "      +''', with the amount of '''\n",
    "      +list_2[0][2]\n",
    "      +\"\\n\")\n",
    "\n",
    "# implement your answer 3 here\n",
    "def TotalPay(val):\n",
    "    return float(val[6])\n",
    "\n",
    "list_3=list(filter(lambda x:(x[9]=='PT'),L))\n",
    "list_3.sort(key=TotalPay,reverse=True)\n",
    "\n",
    "print('3. Top-5 highest \"Total Pay\" Employee whose job status is PT are: ')\n",
    "for i in range (5):\n",
    "    print ('   '\n",
    "           +str(i+1)\n",
    "           +'. '\n",
    "           +list_3[i][0]\n",
    "           +', with the amount of '\n",
    "           +list_3[i][6])\n"
   ]
  },
  {
   "cell_type": "markdown",
   "metadata": {},
   "source": [
    "# Bonus Question (+10%)\n",
    "* Randomly generate a list of 10,000 random numbers in [0,100000)\n",
    "    * e.g., L = [1, 10, 2, 3, 7, 8, 13, 21, 34, 66, 14, ...]\n",
    "* Write a program that print out all PRIME numbers in L\n",
    "* Check [Sieve of Eratosthenes](https://en.wikipedia.org/wiki/Sieve_of_Eratosthenes)"
   ]
  },
  {
   "cell_type": "code",
   "execution_count": 33,
   "metadata": {},
   "outputs": [
    {
     "name": "stdout",
     "output_type": "stream",
     "text": [
      "Random list L contains 961 numbers with list below:\n",
      "\n",
      "[5, 53, 101, 151, 227, 379, 419, 421, 463, 677, 727, 761, 821, 919, 941, 967, 1163, 1171, 1409, 1453, 1511, 1597, 1621, 1831, 1867, 1871, 1949, 2017, 2087, 2221, 2287, 2333, 2357, 2371, 2383, 2539, 2617, 2693, 2753, 2851, 2861, 3041, 3187, 3257, 3761, 3779, 3823, 3847, 3863, 4019, 4051, 4133, 4271, 4481, 4567, 4583, 4657, 4957, 5021, 5119, 5279, 5417, 5419, 5527, 5653, 5689, 5711, 5843, 5867, 6067, 6091, 6163, 6337, 6361, 6421, 6701, 6719, 6793, 6863, 6883, 6947, 6997, 7043, 7057, 7079, 7283, 7321, 7349, 7459, 7537, 7559, 7703, 7753, 7789, 7841, 7879, 8069, 8147, 8221, 8237, 8293, 8363, 8369, 8387, 8447, 8663, 8669, 8677, 8803, 8971, 9161, 9173, 9283, 9437, 9521, 9547, 9649, 9661, 9679, 9697, 9743, 9791, 9907, 10151, 10169, 10193, 10253, 10331, 10453, 10457, 10531, 10567, 10771, 11447, 11467, 11551, 11617, 11621, 11777, 11801, 11887, 11941, 12041, 12049, 12343, 12377, 12601, 12671, 12713, 12721, 12907, 13183, 13187, 13259, 13267, 13339, 13367, 13441, 13523, 13627, 13759, 14153, 14401, 14419, 14449, 14461, 14503, 14629, 14741, 14759, 14983, 15017, 15101, 15199, 15227, 15233, 15299, 15461, 15619, 15641, 15683, 16007, 16073, 16097, 16139, 16249, 16267, 16361, 16363, 16411, 16607, 16787, 16843, 17021, 17053, 17107, 17167, 17183, 17189, 17239, 17293, 17449, 17609, 17789, 18127, 18217, 18269, 18397, 18553, 18839, 18899, 19013, 19037, 19139, 19211, 19213, 19249, 19289, 19421, 19433, 19469, 19477, 19483, 19699, 19801, 19843, 19993, 19997, 20249, 20341, 20441, 20533, 20959, 20983, 21011, 21013, 21499, 21523, 21529, 21701, 21737, 21943, 22037, 22111, 22123, 22273, 22397, 22669, 22717, 22907, 22963, 23099, 23279, 23293, 23321, 23537, 23539, 23671, 23689, 23767, 23833, 24007, 24019, 24083, 24197, 24247, 24413, 24733, 24767, 24793, 24847, 24907, 24953, 25037, 25301, 25307, 25537, 25583, 25667, 25679, 25747, 25847, 25931, 25999, 26317, 26321, 26357, 26387, 26407, 26557, 26633, 26701, 26813, 27011, 27091, 27109, 27179, 27211, 27271, 27329, 27397, 27817, 27953, 28289, 28409, 28723, 28729, 28771, 28789, 28927, 28949, 29101, 29243, 29399, 29411, 29671, 29833, 30091, 30103, 30187, 30197, 30259, 30509, 30529, 30649, 30727, 31267, 31327, 31517, 31541, 31607, 31627, 31657, 31751, 31963, 32003, 32099, 32189, 32309, 32381, 32633, 32749, 32779, 32803, 32839, 32939, 32969, 33619, 33637, 33751, 33809, 34211, 34351, 34429, 34483, 34513, 34591, 34631, 34667, 34693, 34759, 34781, 35327, 35363, 35423, 35437, 35461, 35537, 35747, 35801, 35809, 35831, 35839, 35879, 35977, 36017, 36263, 36299, 36307, 36319, 36353, 36373, 36383, 36433, 36473, 36527, 36671, 37321, 37441, 37493, 37589, 37643, 37957, 37967, 38603, 38609, 38821, 38833, 39079, 39317, 39499, 39607, 39619, 39671, 39839, 39857, 39877, 40151, 40189, 40193, 40213, 40289, 40433, 40543, 40823, 41047, 41161, 41467, 41491, 41593, 41843, 41897, 42017, 42209, 42223, 42403, 42409, 42557, 42821, 43003, 43013, 43067, 43399, 43577, 43759, 43777, 43889, 44021, 44027, 44087, 44101, 44203, 44257, 44483, 44491, 44651, 44753, 45119, 45137, 45247, 45259, 45263, 45293, 45403, 45497, 45523, 45557, 45673, 45779, 45817, 45827, 45853, 46133, 46181, 46219, 46351, 46439, 46499, 46507, 46549, 46559, 46573, 46601, 46751, 46861, 47057, 47143, 47147, 47149, 47303, 47309, 47501, 47779, 47819, 48079, 48119, 48299, 48491, 48563, 48593, 48751, 48781, 48823, 48953, 48973, 49037, 49171, 49177, 49211, 49297, 49451, 49627, 49789, 50159, 50263, 50311, 50333, 50459, 50551, 50587, 50599, 50773, 50857, 50957, 50989, 51137, 51383, 51421, 51439, 51577, 51581, 51691, 51713, 51721, 51869, 51907, 52081, 52127, 52249, 52289, 52433, 52489, 52609, 52639, 52783, 52817, 53437, 53593, 53611, 53657, 53717, 53857, 53861, 53897, 53959, 54001, 54121, 54181, 54323, 54493, 54503, 54517, 54559, 54583, 54799, 54973, 55001, 55057, 55079, 55171, 55243, 55337, 55399, 55501, 55717, 55817, 55933, 55949, 56081, 56131, 56179, 56263, 56299, 56311, 56333, 56369, 56501, 56509, 56531, 56597, 56767, 56773, 56821, 56983, 56989, 57077, 57107, 57131, 57173, 57241, 57331, 57487, 57731, 57853, 58153, 58199, 58417, 58543, 58711, 58789, 58997, 59021, 59069, 59263, 59281, 59377, 59539, 59581, 59621, 59669, 59747, 59791, 60029, 60037, 60091, 60169, 60217, 60289, 60413, 60457, 60493, 60607, 60647, 60649, 60679, 60899, 61099, 61403, 61463, 61543, 61723, 61781, 61927, 61991, 62189, 62477, 62627, 62659, 62743, 63031, 63313, 63337, 63559, 63599, 63607, 63697, 63799, 63913, 63977, 63997, 64067, 64283, 64373, 64489, 64567, 64579, 64853, 65027, 65179, 65203, 65539, 65731, 65831, 65929, 66067, 66449, 66571, 66643, 67033, 67153, 67307, 67391, 67421, 67433, 67447, 67499, 67523, 67589, 67619, 67741, 67853, 68207, 68213, 68437, 68449, 68507, 68611, 69119, 69379, 69389, 69431, 69439, 69499, 69661, 69809, 69941, 69959, 70019, 70099, 70123, 70229, 70373, 70381, 70457, 70507, 70589, 70853, 70913, 71059, 71143, 71209, 71333, 71483, 71663, 71699, 71713, 71789, 71809, 71821, 71879, 71917, 72091, 72109, 72251, 72287, 72421, 72503, 72647, 72997, 73013, 73079, 73453, 73547, 73651, 73681, 73783, 74071, 74093, 74099, 74323, 74509, 74561, 74567, 74707, 74731, 74821, 75017, 75041, 75209, 75511, 75553, 75689, 75731, 75787, 75793, 75833, 76147, 76157, 76231, 76249, 76289, 76519, 76561, 76753, 77017, 77041, 77171, 77339, 77681, 77711, 77713, 77731, 77839, 78007, 78041, 78079, 78283, 78427, 78541, 78737, 79151, 79393, 79433, 79559, 79697, 79987, 80167, 80287, 80363, 80471, 80537, 80683, 80737, 80819, 81013, 81019, 81071, 81131, 81239, 81551, 81707, 81737, 81943, 82003, 82067, 82129, 82457, 82471, 82559, 82561, 82619, 82793, 83257, 83407, 83561, 83621, 84127, 84131, 84143, 84229, 84319, 84431, 84443, 84653, 84811, 84871, 85049, 85093, 85451, 85453, 85639, 85837, 85843, 85991, 86131, 86341, 86357, 86467, 86587, 86599, 86711, 86753, 86837, 86959, 86981, 87151, 87179, 87293, 87679, 87911, 87943, 88079, 88211, 88237, 88289, 88609, 88747, 88819, 88867, 89021, 89083, 89113, 89119, 89153, 89273, 89293, 89393, 89611, 90373, 90439, 90473, 90533, 90823, 90847, 91153, 91229, 91237, 91297, 91303, 91331, 91397, 91703, 91951, 92107, 92143, 92153, 92639, 92657, 92791, 92861, 92867, 92899, 92927, 92993, 93001, 93053, 93059, 93281, 93307, 93323, 93493, 93523, 93607, 93983, 94009, 94207, 94307, 94327, 94349, 94379, 94483, 94559, 94583, 94649, 94709, 94837, 94849, 94961, 95083, 95177, 95327, 95467, 95629, 95651, 95717, 95857, 95881, 96457, 96667, 96851, 96893, 96907, 96997, 97177, 97259, 97373, 97379, 97579, 97883, 97961, 98017, 98081, 98129, 98297, 98411, 98573, 98597, 98801, 98867, 98909, 98963, 99053, 99109, 99241, 99367, 99529, 99611, 99761, 99787, 99809, 99901]\n"
     ]
    }
   ],
   "source": [
    "# basic idea\n",
    "#PRIMES=[]\n",
    "#for i in range(10000):\n",
    "#for j in PRIMES:\n",
    "\n",
    "# Implement your logic here\n",
    "\n",
    "import random\n",
    "group_of_items=range(0,100000)\n",
    "num_to_select=10000\n",
    "L=random.sample(group_of_items,num_to_select)\n",
    "\n",
    "\n",
    "def Primes(n):\n",
    "  \n",
    "    Pnumber = [True]*(n+1)\n",
    " \n",
    "    for i in range(2, int(n ** 0.5) + 1):\n",
    "  \n",
    "        if Pnumber[i]:\n",
    "  \n",
    "            for j in range(i * i, n + 1, i): #range(start, stop, step)\n",
    "  \n",
    "                Pnumber[j] = False\n",
    "  \n",
    "    return [x for x in range(2, n + 1) if Pnumber[x]]\n",
    "\n",
    "b=Primes(100000)\n",
    "c=list(set(L).intersection(set(b)))\n",
    "c.sort(reverse=False)\n",
    "\n",
    "print('Random list L contains '+str(len(c))+' numbers with list below:'+'\\n')\n",
    "print(c)\n"
   ]
  },
  {
   "cell_type": "code",
   "execution_count": null,
   "metadata": {},
   "outputs": [],
   "source": []
  }
 ],
 "metadata": {
  "kernelspec": {
   "display_name": "Python 3",
   "language": "python",
   "name": "python3"
  },
  "language_info": {
   "codemirror_mode": {
    "name": "ipython",
    "version": 3
   },
   "file_extension": ".py",
   "mimetype": "text/x-python",
   "name": "python",
   "nbconvert_exporter": "python",
   "pygments_lexer": "ipython3",
   "version": "3.7.3"
  }
 },
 "nbformat": 4,
 "nbformat_minor": 2
}
