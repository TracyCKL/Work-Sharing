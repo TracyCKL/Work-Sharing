{
 "cells": [
  {
   "cell_type": "markdown",
   "metadata": {},
   "source": [
    "# Exercise 1\n",
    "* Create a program that asks the user to enter their name and their age. Print out a message addressed to them that tells them the year that they will turn 100 years old.\n",
    "\n",
    "* Extras:\n",
    "    * Add on to the previous program by asking the user for another number and printing out that many copies of the previous message. (Hint: order of operations exists in Python)\n",
    "    * Print out that many copies of the previous message on separate lines. (Hint: the string \"\\n is the same as pressing the ENTER button)"
   ]
  },
  {
   "cell_type": "code",
   "execution_count": null,
   "metadata": {},
   "outputs": [],
   "source": [
    "# fill your answer here\n",
    "# use \"input\" to get data from an interactive box, e.g., \n",
    "\n",
    "while True:\n",
    "    name = input(\"Please enter me your name: \")\n",
    "    \n",
    "    try:\n",
    "        age = int(input(\"Please enter your age: \"))\n",
    "    except:\n",
    "        print('You have entered an invalid value') \n",
    "            \n",
    "    if age > 0:\n",
    "        import datetime\n",
    "        now = datetime.datetime.now()\n",
    "        current=now.year\n",
    "        hundred=current+100-age\n",
    "        print (\"The year that\",name, \"will turn to 100 years old is\", hundred)\n",
    "        print(\"\\n\")\n",
    "        del age\n",
    "       \n",
    "    else:\n",
    "        print('Age should not be a negative number')\n",
    "        print(\"\\n\")\n",
    "        del age\n"
   ]
  },
  {
   "cell_type": "markdown",
   "metadata": {},
   "source": [
    "# Exercise 2\n",
    "* Ask the user for a number. Depending on whether the number is even or odd, print out an appropriate message to the user. Hint: how does an even / odd number react differently when divided by 2?\n",
    "\n",
    "* Extras:\n",
    "    * If the number is a multiple of 4, print out a different message.\n",
    "    * Ask the user for two numbers: one number to check (call it num) and one number to divide by (check). If check divides evenly into num, tell that to the user. If not, print a different appropriate message."
   ]
  },
  {
   "cell_type": "code",
   "execution_count": null,
   "metadata": {},
   "outputs": [],
   "source": [
    "while True:\n",
    "    n = int(input(\"Please give a number: \"))\n",
    "\n",
    "    if (n % 4)==0:\n",
    "        print (n,\"is a multiple of 4\")\n",
    "\n",
    "    else: \n",
    "            if(n % 2)==0:\n",
    "                print (n,\"is an even number\")\n",
    "    \n",
    "            else:\n",
    "                print (n,\"is an odd number\")\n",
    "        \n",
    "    d= int(input(\"Please give another number: \"))\n",
    "    \n",
    "    if (d % 4)==0:\n",
    "        print (d,\"is a multiple of 4\")\n",
    "\n",
    "    else: \n",
    "            if(d % 2)==0:\n",
    "                print (d,\"is an even number\")\n",
    "    \n",
    "            else:\n",
    "                print (d,\"is an odd number\")\n",
    "    \n",
    "    \n",
    "    if (n % d) == 0:\n",
    "        print(n,\"can be evenly divided by \",d)\n",
    "        print(\"\\n\")\n",
    "    \n",
    "    else: \n",
    "        print(n,\"can NOT be evenly divided by \",d)\n",
    "        print(\"\\n\")"
   ]
  },
  {
   "cell_type": "markdown",
   "metadata": {},
   "source": [
    "# Exercise 3\n",
    "* Take a list, say for example this one:\n",
    "    * a = [1, 1, 2, 3, 5, 8, 13, 21, 34, 55, 89]\n",
    "* and write a program that prints out all the elements of the list that are less than 5.\n",
    "\n",
    "* Extras:\n",
    "    * Instead of printing the elements one by one, make a new list that has all the elements less than 5 from this list in it and print out this new list.\n",
    "    * Write this in one line of Python. (search \"filter\" from Google)\n",
    "    * Ask the user for a number and return a list that contains only elements from the original list a that are smaller than that number given by the user."
   ]
  },
  {
   "cell_type": "code",
   "execution_count": 1,
   "metadata": {},
   "outputs": [
    {
     "name": "stdout",
     "output_type": "stream",
     "text": [
      "1 1 2 3 "
     ]
    }
   ],
   "source": [
    "# multi-line solution\n",
    "a = [1, 1, 2, 3, 5, 8, 13, 21, 34, 55, 89]\n",
    "\n",
    "for num in a:\n",
    "    if num<5:\n",
    "        print(num, end=\" \")"
   ]
  },
  {
   "cell_type": "code",
   "execution_count": null,
   "metadata": {},
   "outputs": [],
   "source": [
    "# single-line solution\n",
    "a2=list(filter(lambda x: x<5,a))\n",
    "print(a2)\n",
    "\n",
    "#Extra\n",
    "n=int(input(\"Please enter a number: \"))\n",
    "a = [1, 1, 2, 3, 5, 8, 13, 21, 34, 55, 89]\n",
    "\n",
    "def less_fn(x):\n",
    "    if x<n:\n",
    "        return True\n",
    "        return False\n",
    "\n",
    "print(list(filter(less_fn,a)))"
   ]
  },
  {
   "cell_type": "markdown",
   "metadata": {},
   "source": [
    "# Exercise 4\n",
    "* Create a program that asks the user for a number and then prints out a list of all the divisors of that number. (If you don’t know what a divisor is, it is a number that divides evenly into another number. For example, 13 is a divisor of 26 because 26 / 13 has no remainder.)"
   ]
  },
  {
   "cell_type": "code",
   "execution_count": null,
   "metadata": {},
   "outputs": [],
   "source": [
    "# you may need to use range and for loop\n",
    "# you may need to use range and for loop\n",
    "#x = range(2, 11)\n",
    "#for i in x:\n",
    "#    print(i)\n",
    "    \n",
    "n=int(input(\"Enter an integer:\"))\n",
    "print(\"The divisors of the number are:\")\n",
    "\n",
    "for i in range(1,n+1):\n",
    "    if (n%i==0):\n",
    "        print(i)\n"
   ]
  },
  {
   "cell_type": "markdown",
   "metadata": {},
   "source": [
    "# Exercise 5\n",
    "* Take two lists, say for example these two:\n",
    "    * a = [1, 1, 2, 3, 5, 8, 13, 21, 34, 55, 89]\n",
    "    * b = [1, 2, 3, 4, 5, 6, 7, 8, 9, 10, 11, 12, 13]\n",
    "* and write a program that returns a list that contains only the elements that are common between the lists (without duplicates). Make sure your program works on two lists of different sizes.\n",
    "\n",
    "* Extras:\n",
    "    * Randomly generate two lists to test this (search \"random_list\" from Google)\n",
    "    * Write this in one line of Python (search \"intersection\" from Google)"
   ]
  },
  {
   "cell_type": "code",
   "execution_count": 5,
   "metadata": {},
   "outputs": [
    {
     "name": "stdout",
     "output_type": "stream",
     "text": [
      "[1, 2, 3, 5, 8, 13]\n"
     ]
    }
   ],
   "source": [
    "# multi-line solution\n",
    "a = [1, 1, 2, 3, 5, 8, 13, 21, 34, 55, 89]\n",
    "b = [1, 2, 3, 4, 5, 6, 7, 8, 9, 10, 11, 12, 13]\n",
    "\n",
    "print (list(set(b).intersection(a)))"
   ]
  },
  {
   "cell_type": "code",
   "execution_count": 4,
   "metadata": {},
   "outputs": [
    {
     "name": "stdout",
     "output_type": "stream",
     "text": [
      "[30, 30, 81, 59, 21, 80, 59, 41, 97, 42, 86]\n",
      "[66, 43, 32, 65, 24, 49, 26, 16, 77, 40, 20, 95, 98, 81]\n",
      "[81]\n"
     ]
    }
   ],
   "source": [
    "# single-line solution\n",
    "\n",
    "import random\n",
    "a =[random.randrange(0,100) for i in range(11)]\n",
    "b=[random.randrange(0,100) for i in range(14)]\n",
    "\n",
    "print (a)\n",
    "print (b)\n",
    "print (list(set(b).intersection(a)))\n"
   ]
  },
  {
   "cell_type": "markdown",
   "metadata": {},
   "source": [
    "# Exercise 6\n",
    "* Ask the user for a string and print out whether this string is a palindrome or not. \n",
    "    * A palindrome is a string that reads the same forwards and backwards."
   ]
  },
  {
   "cell_type": "code",
   "execution_count": null,
   "metadata": {},
   "outputs": [
    {
     "name": "stdout",
     "output_type": "stream",
     "text": [
      "Please enter a word: tracy\n",
      "This string is NOT a Palindrome\n",
      "\n",
      "\n",
      "Please enter a word: aba\n",
      "This string is a Palindrome\n",
      "\n",
      "\n"
     ]
    }
   ],
   "source": [
    "while True:\n",
    "    Var=input('Please enter a word: ')\n",
    "    a=list(Var)\n",
    "    b=(list(reversed(Var)))\n",
    "\n",
    "    if a==b:\n",
    "        print('This string is a Palindrome')\n",
    "        print('\\n')\n",
    "    else:\n",
    "        print ('This string is NOT a Palindrome')\n",
    "        print('\\n')"
   ]
  },
  {
   "cell_type": "code",
   "execution_count": null,
   "metadata": {},
   "outputs": [],
   "source": []
  },
  {
   "cell_type": "code",
   "execution_count": null,
   "metadata": {},
   "outputs": [],
   "source": []
  },
  {
   "cell_type": "code",
   "execution_count": null,
   "metadata": {},
   "outputs": [],
   "source": []
  },
  {
   "cell_type": "code",
   "execution_count": null,
   "metadata": {},
   "outputs": [],
   "source": []
  }
 ],
 "metadata": {
  "kernelspec": {
   "display_name": "Python 3",
   "language": "python",
   "name": "python3"
  },
  "language_info": {
   "codemirror_mode": {
    "name": "ipython",
    "version": 3
   },
   "file_extension": ".py",
   "mimetype": "text/x-python",
   "name": "python",
   "nbconvert_exporter": "python",
   "pygments_lexer": "ipython3",
   "version": "3.7.3"
  }
 },
 "nbformat": 4,
 "nbformat_minor": 2
}
