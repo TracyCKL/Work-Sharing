{
 "cells": [
  {
   "cell_type": "markdown",
   "metadata": {},
   "source": [
    "# Exercise 1\n",
    "* Create a program that asks the user to enter their name and their age. Print out a message addressed to them that tells them the year that they will turn 100 years old.\n",
    "\n",
    "* Extras:\n",
    "    * Add on to the previous program by asking the user for another number and printing out that many copies of the previous message. (Hint: order of operations exists in Python)\n",
    "    * Print out that many copies of the previous message on separate lines. (Hint: the string \"\\n is the same as pressing the ENTER button)"
   ]
  },
  {
   "cell_type": "code",
   "execution_count": 1,
   "metadata": {},
   "outputs": [
    {
     "name": "stdout",
     "output_type": "stream",
     "text": [
      "Give me your name: Tracy\n",
      "Give me your age: 18\n",
      "Tracy, you will turn 100 years old in 82 years\n"
     ]
    }
   ],
   "source": [
    "# fill your answer here\n",
    "# use \"input\" to get data from an interactive box, e.g., \n",
    "\n",
    "name = input(\"Give me your name: \")\n",
    "age=input(\"Give me your age: \")\n",
    "print(\"%s, you will turn 100 years old in %d years.\"%(name,100-int(age)))\n",
    "    "
   ]
  },
  {
   "cell_type": "code",
   "execution_count": null,
   "metadata": {},
   "outputs": [
    {
     "name": "stdout",
     "output_type": "stream",
     "text": [
      "Give me your name: Tracy\n",
      "Give me your age: 18\n",
      "Tracy, you will turn 100 years old in 82 years\n"
     ]
    }
   ],
   "source": [
    "#Ryan Extra\n",
    "\n",
    "People=[]\n",
    "\n",
    "while 1:\n",
    "    name = input(\"Give me your name: \")\n",
    "    age=input(\"Give me your age: \")\n",
    "    People.append([name,age])\n",
    "    for (name,age) in People:\n",
    "        print(\"%s, you will turn 100 years old in %d years.\"%(name,100-int(age)))\n"
   ]
  },
  {
   "cell_type": "code",
   "execution_count": null,
   "metadata": {},
   "outputs": [],
   "source": [
    "#Tracy syntax\n",
    "\n",
    "while True:\n",
    "    name = input(\"Please enter me your name: \")\n",
    "    \n",
    "    try:\n",
    "        age = int(input(\"Please enter your age: \"))\n",
    "    except:\n",
    "        print('You have entered an invalid value') \n",
    "            \n",
    "    if age > 0:\n",
    "        import datetime\n",
    "        now = datetime.datetime.now()\n",
    "        current=now.year\n",
    "        hundred=current+100-age\n",
    "        print (\"The year that\",name, \"will turn to 100 years old is\", hundred)\n",
    "        print(\"\\n\")\n",
    "        del age\n",
    "       \n",
    "    else:\n",
    "        print('Age should not be a negative number')\n",
    "        print(\"\\n\")\n",
    "        del age"
   ]
  },
  {
   "cell_type": "markdown",
   "metadata": {},
   "source": [
    "# Exercise 2\n",
    "* Ask the user for a number. Depending on whether the number is even or odd, print out an appropriate message to the user. Hint: how does an even / odd number react differently when divided by 2?\n",
    "\n",
    "* Extras:\n",
    "    * If the number is a multiple of 4, print out a different message.\n",
    "    * Ask the user for two numbers: one number to check (call it num) and one number to divide by (check). If check divides evenly into num, tell that to the user. If not, print a different appropriate message."
   ]
  },
  {
   "cell_type": "code",
   "execution_count": 2,
   "metadata": {},
   "outputs": [
    {
     "name": "stdout",
     "output_type": "stream",
     "text": [
      "Give me a number: 4000\n",
      "The number is even and a multiple of 4\n"
     ]
    }
   ],
   "source": [
    "#Ryan syntax\n",
    "\n",
    "number=int(input(\"Give me a number: \"))\n",
    "if number % 2 ==0:\n",
    "    if number % 4 ==0:\n",
    "        print(\"The number is even and a multiple of 4\")\n",
    "    else: print (\"The number is even\")\n",
    "else:\n",
    "    print (\"The number is odd\")"
   ]
  },
  {
   "cell_type": "code",
   "execution_count": null,
   "metadata": {},
   "outputs": [
    {
     "name": "stdout",
     "output_type": "stream",
     "text": [
      "Please give a number: 24\n",
      "24 is a multiple of 4\n",
      "Please give another number: 8\n",
      "8 is a multiple of 4\n",
      "24 can be evenly divided by  8\n",
      "\n",
      "\n"
     ]
    }
   ],
   "source": [
    "#Tracy syntax\n",
    "\n",
    "while True:\n",
    "    n = int(input(\"Please give a number: \"))\n",
    "\n",
    "    if (n % 4)==0:\n",
    "        print (n,\"is a multiple of 4\")\n",
    "\n",
    "    else: \n",
    "            if(n % 2)==0:\n",
    "                print (n,\"is an even number\")\n",
    "    \n",
    "            else:\n",
    "                print (n,\"is an odd number\")\n",
    "        \n",
    "    d= int(input(\"Please give another number: \"))\n",
    "    \n",
    "    if (d % 4)==0:\n",
    "        print (d,\"is a multiple of 4\")\n",
    "\n",
    "    else: \n",
    "            if(d % 2)==0:\n",
    "                print (d,\"is an even number\")\n",
    "    \n",
    "            else:\n",
    "                print (d,\"is an odd number\")\n",
    "    \n",
    "    \n",
    "    if (n % d) == 0:\n",
    "        print(n,\"can be evenly divided by \",d)\n",
    "        print(\"\\n\")\n",
    "    \n",
    "    else: \n",
    "        print(n,\"can NOT be evenly divided by \",d)\n",
    "        print(\"\\n\")"
   ]
  },
  {
   "cell_type": "markdown",
   "metadata": {},
   "source": [
    "# Exercise 3\n",
    "* Take a list, say for example this one:\n",
    "    * a = [1, 1, 2, 3, 5, 8, 13, 21, 34, 55, 89]\n",
    "* and write a program that prints out all the elements of the list that are less than 5.\n",
    "\n",
    "* Extras:\n",
    "    * Instead of printing the elements one by one, make a new list that has all the elements less than 5 from this list in it and print out this new list.\n",
    "    * Write this in one line of Python. (search \"filter\" from Google)\n",
    "    * Ask the user for a number and return a list that contains only elements from the original list a that are smaller than that number given by the user."
   ]
  },
  {
   "cell_type": "code",
   "execution_count": 1,
   "metadata": {},
   "outputs": [
    {
     "name": "stdout",
     "output_type": "stream",
     "text": [
      "[1, 1, 2, 3]\n"
     ]
    }
   ],
   "source": [
    "# multi-line solution\n",
    "\n",
    "a = [1, 1, 2, 3, 5, 8, 13, 21, 34, 55, 89]\n",
    "ans=[]\n",
    "for num in a:\n",
    "    if num<5:\n",
    "        ans.append(num)\n",
    "print(ans)\n"
   ]
  },
  {
   "cell_type": "code",
   "execution_count": 2,
   "metadata": {},
   "outputs": [
    {
     "name": "stdout",
     "output_type": "stream",
     "text": [
      "1 1 2 3 "
     ]
    }
   ],
   "source": [
    "# Tracy Syntax\n",
    "\n",
    "a = [1, 1, 2, 3, 5, 8, 13, 21, 34, 55, 89]\n",
    "\n",
    "for num in a:\n",
    "    if num<5:\n",
    "        print(num, end=\" \")"
   ]
  },
  {
   "cell_type": "code",
   "execution_count": 3,
   "metadata": {},
   "outputs": [
    {
     "name": "stdout",
     "output_type": "stream",
     "text": [
      "[1, 1, 2, 3]\n"
     ]
    }
   ],
   "source": [
    "# single-line solution\n",
    "print(list(filter(lambda x: x<5,a)))"
   ]
  },
  {
   "cell_type": "code",
   "execution_count": 4,
   "metadata": {},
   "outputs": [
    {
     "name": "stdout",
     "output_type": "stream",
     "text": [
      "[1, 1, 2, 3]\n",
      "Please enter a number: 72\n",
      "[1, 1, 2, 3, 5, 8, 13, 21, 34, 55]\n"
     ]
    }
   ],
   "source": [
    "# Tracy Extra\n",
    "\n",
    "a2=list(filter(lambda x: x<5,a))\n",
    "print(a2)\n",
    "\n",
    "#Extra\n",
    "n=int(input(\"Please enter a number: \"))\n",
    "a = [1, 1, 2, 3, 5, 8, 13, 21, 34, 55, 89]\n",
    "\n",
    "def less_fn(x):\n",
    "    if x<n:\n",
    "        return True\n",
    "        return False\n",
    "\n",
    "print(list(filter(less_fn,a)))"
   ]
  },
  {
   "cell_type": "markdown",
   "metadata": {},
   "source": [
    "# Exercise 4\n",
    "* Create a program that asks the user for a number and then prints out a list of all the divisors of that number. (If you don’t know what a divisor is, it is a number that divides evenly into another number. For example, 13 is a divisor of 26 because 26 / 13 has no remainder.)"
   ]
  },
  {
   "cell_type": "code",
   "execution_count": 9,
   "metadata": {},
   "outputs": [
    {
     "name": "stdout",
     "output_type": "stream",
     "text": [
      "Give me a number 15\n",
      "3\n",
      "5\n"
     ]
    }
   ],
   "source": [
    "# you may need to use range and for loop\n",
    "\n",
    "number=int(input(\"Give me a number \"))\n",
    "x = range(2, number)\n",
    "for i in x:\n",
    "    if number % i==0:\n",
    "        print(i)"
   ]
  },
  {
   "cell_type": "code",
   "execution_count": 13,
   "metadata": {},
   "outputs": [
    {
     "name": "stdout",
     "output_type": "stream",
     "text": [
      "Enter an integer:15\n",
      "The divisors of the number are:\n",
      "[1, 3, 5, 15]\n"
     ]
    }
   ],
   "source": [
    "#Tracy syntax\n",
    "    \n",
    "n=int(input(\"Enter an integer:\"))\n",
    "print(\"The divisors of the number are:\")\n",
    "\n",
    "div=[]\n",
    "for i in range(1,n+1):\n",
    "    if (n%i==0):\n",
    "        div.append(i)\n",
    "print(div)\n"
   ]
  },
  {
   "cell_type": "markdown",
   "metadata": {},
   "source": [
    "# Exercise 5\n",
    "* Take two lists, say for example these two:\n",
    "    * a = [1, 1, 2, 3, 5, 8, 13, 21, 34, 55, 89]\n",
    "    * b = [1, 2, 3, 4, 5, 6, 7, 8, 9, 10, 11, 12, 13]\n",
    "* and write a program that returns a list that contains only the elements that are common between the lists (without duplicates). Make sure your program works on two lists of different sizes.\n",
    "\n",
    "* Extras:\n",
    "    * Randomly generate two lists to test this (search \"random_list\" from Google)\n",
    "    * Write this in one line of Python (search \"intersection\" from Google)"
   ]
  },
  {
   "cell_type": "code",
   "execution_count": 17,
   "metadata": {},
   "outputs": [
    {
     "name": "stdout",
     "output_type": "stream",
     "text": [
      "1\n",
      "2\n",
      "3\n",
      "5\n",
      "8\n",
      "13\n"
     ]
    }
   ],
   "source": [
    "# multi-line solution\n",
    "a = [1, 1, 2, 3, 5, 8, 13, 21, 34, 55, 89]\n",
    "b = [1, 2, 3, 4, 5, 6, 7, 8, 9, 10, 11, 12, 13]\n",
    "\n",
    "i=0\n",
    "j=0\n",
    "while i<len(a) and j<len(b):\n",
    "    if a[i]==b[j]:\n",
    "        print(a[i])\n",
    "        i=i+1\n",
    "        j=j+1\n",
    "    elif a[i]>b[j]:\n",
    "        j=j+1 \n",
    "    else:\n",
    "        i=i+1\n"
   ]
  },
  {
   "cell_type": "code",
   "execution_count": 19,
   "metadata": {},
   "outputs": [
    {
     "data": {
      "text/plain": [
       "{1, 2, 3, 5, 8, 13}"
      ]
     },
     "execution_count": 19,
     "metadata": {},
     "output_type": "execute_result"
    }
   ],
   "source": [
    "# single-line solution\n",
    "\n",
    "set(a).intersection(set(b))"
   ]
  },
  {
   "cell_type": "code",
   "execution_count": 18,
   "metadata": {},
   "outputs": [
    {
     "name": "stdout",
     "output_type": "stream",
     "text": [
      "[1, 2, 3, 5, 8, 13]\n"
     ]
    }
   ],
   "source": [
    "# Tracy syntax\n",
    "\n",
    "print (list(set(b).intersection(a)))"
   ]
  },
  {
   "cell_type": "code",
   "execution_count": 8,
   "metadata": {},
   "outputs": [
    {
     "name": "stdout",
     "output_type": "stream",
     "text": [
      "{1443841, 9984002, 4694017, 8101893, 3450888, 2740233, 3061768, 5496852, 6148118, 9256987, 5419036, 4165659, 7483424, 6225953, 3418147, 9451555, 9902115, 7528486, 9046055, 7690280, 4147239, 8448044, 2474028, 9246766, 7211055, 960559, 5562418, 4962356, 9457719, 3444792, 1865785, 7258171, 7710782, 2549823, 819264, 2670657, 7536704, 7934020, 8986692, 4384839, 7858247, 8017996, 813135, 4798544, 495698, 8798291, 8398933, 1329237, 3717206, 5492825, 5623898, 5378140, 454752, 7985253, 5283943, 5189740, 7936109, 82031, 7436402, 6008947, 8669305, 7342203, 5859454, 635009, 3635329, 1771651, 9334919, 6566024, 1149064, 7479433, 28811, 5611659, 934025, 4333710, 7026828, 5812368, 8720529, 4395153, 4518035, 4065427, 9255061, 5154963, 6498453, 9322648, 7825554, 4159644, 5398689, 9181347, 950435, 2142374, 7835818, 3854511, 8116399, 1378481, 3489973, 2193589, 6650043, 8992956, 7569598, 8663232, 9183426, 7719111, 8505545, 1198281, 4378829, 6506703, 1691856, 3958999, 6328535, 2068697, 41178, 4251867, 3467484, 448732, 5191902, 8222944, 7776481, 8333536, 4323555, 4565220, 1472739, 8788198, 1079527, 350439, 3774697, 2638058, 3549418, 1515751, 1931505, 719089, 342262, 209145, 6271229, 3350784, 9017602, 4114690, 2248966, 1734918, 5996807, 3477770, 3166475, 8558859, 5978380, 9713934, 8446225, 3952914, 4907283, 7016722, 3766553, 1392924, 3000604, 471327, 749855, 463141, 6033702, 8427817, 7817514, 7721262, 2339120, 7067956, 6109494, 4217145, 1978681, 2887995, 7278905, 9437501, 8522046, 342335, 4868416, 7405889, 9451842, 3162442, 3582282, 4806988, 5325137, 3770707, 8417622, 6066520, 9609560, 2115940, 1872228, 6883685, 305511, 6437224, 6050155, 1972588, 4454764, 817518, 6877554, 2818418, 2584946, 7215480, 1192312, 1059194, 3291513, 4426107, 2722174, 582016, 6119808, 5343618, 2464131, 5687680, 6490498, 2875778, 6046088, 9345417, 6177162, 9054603, 3557771, 5169544, 6220173, 7385487, 504207, 965011, 3172756, 9769364, 311705, 5970336, 8606113, 315811, 3123619, 3449256, 4393388, 6320559, 3062191, 1350067, 5372342, 7510456, 844217, 5284282, 2681277, 3905983, 4348352, 2662850, 135620, 1292740, 7905739, 2894284, 1866188, 3230160, 6765008, 8939988, 2757076, 1157593, 6791641, 9609693, 4332001, 5126627, 8823269, 1032678, 8679911, 8815079, 9552361, 6134250, 4573673, 9929195, 5861869, 3480046, 928237, 9984496, 2132464, 9871856, 446960, 2068972, 6578678, 2980345, 3215868, 7412223, 6398464, 430591, 6498819, 5356039, 7088648, 1223177, 9527818, 5472778, 7483916, 1993228, 4972292, 78360, 199197, 4174365, 8329760, 7383591, 1571368, 3486250, 8268339, 7690808, 1053242, 8532539, 997946, 7770689, 1006147, 7610949, 5837381, 3056203, 1274444, 9744973, 1032782, 2304591, 8647245, 9595480, 4620889, 6699613, 7918176, 7219808, 6636130, 7365223, 2593384, 1393257, 3144296, 5640813, 4084335, 8465014, 6269569, 1528451, 2413191, 2652808, 5964425, 4442759, 4831883, 4096652, 5130893, 2779789, 2028175, 6193808, 6722193, 6752914, 1768083, 5833364, 9499285, 4393621, 5472915, 5485202, 2667161, 1561238, 8491675, 5567132, 2022049, 9700002, 3816098, 4627106, 2030242, 3113634, 8073896, 2552492, 7946925, 3971758, 2577072, 420529, 5255859, 6177460, 1116853, 6937272, 6513338, 8811196, 7740094, 4960962, 7951043, 9054915, 4489925, 8667846, 7973573, 2200264, 9319107, 9591496, 9501387, 2681548, 8577740, 7944910, 5839567, 2953936, 3128013, 7979732, 6032085, 2884313, 7764704, 473825, 324323, 7795427, 8516325, 9517798, 2040549, 6705896, 7899881, 2865891, 2136812, 4451053, 877302, 6152953, 8385274, 3883775, 2089728, 2618112, 2837250, 6836995, 9407235, 6900485, 2577157, 3384079, 1020691, 5233427, 361240, 4315928, 6781726, 6560544, 5131041, 4199202, 3074850, 2923304, 1198888, 5319467, 131884, 2786092, 8438581, 539446, 1194806, 455481, 3001146, 6380347, 6294332, 2794299, 344895, 9612095, 1710913, 1905474, 6703939, 281413, 7426885, 5456710, 5813065, 1753931, 7684941, 8657742, 3222351, 7785299, 9431891, 3240790, 2456408, 2779992, 4385627, 5372764, 2061151, 127842, 9608035, 7773029, 1225575, 2280295, 1438573, 8991604, 4877174, 4541304, 383865, 3687294, 9819009, 2247557, 6484872, 1446797, 4045713, 576411, 6226843, 48029, 7003039, 426914, 3992483, 5395367, 8969129, 9933741, 8924080, 2841521, 9675700, 8764345, 4920250, 7717823, 4049857, 7683012, 7531461, 1917909, 5116885, 3070943, 2778080, 3027937, 2130914, 426976, 965601, 9358305, 5581798, 8834019, 9190376, 2843616, 1149930, 7865323, 787436, 9159656, 4713446, 4244463, 3265519, 9532402, 586741, 1080310, 9509879, 8963064, 3998714, 4592635, 6618108, 4418559, 7996416, 2475014, 2823175, 2059270, 9516042, 9305098, 8397836, 9417742, 1850391, 6835225, 9071641, 756763, 8848412, 5473312, 8791077, 6245413, 7046188, 3417135, 6706223, 3802166, 6442039, 4510776, 9606201, 8604730, 4676663, 3904573, 7357502, 4607040, 6534212, 1440837, 1047621, 4201544, 7296074, 7633997, 9100367, 4215889, 9038930, 3928717, 1360983, 8541275, 6421596, 1612896, 9065569, 1481825, 353379, 914532, 2571371, 5528688, 5817456, 353392, 8002673, 4701298, 2339957, 4232313, 9872506, 5004411, 332924, 4744318, 6945920, 4605059, 664711, 4533384, 8850567, 4265098, 5631115, 6438027, 4187272, 2434190, 7326862, 2616455, 1793169, 240785, 3562644, 7662741, 9686166, 6476952, 9004187, 1588380, 4215964, 7746717, 4138139, 9956512, 7261347, 8686758, 9448615, 2108584, 8260776, 7763112, 4916398, 8707250, 6679732, 193721, 5985467, 3327164, 4857021, 2110655, 1887425, 3972292, 2272452, 1232069, 365769, 2501834, 5129417, 7840969, 5514445, 6139088, 4084945, 5280978, 314580, 7339220, 9645271, 2299099, 9014494, 6307039, 2376928, 7384287, 3753186, 386274, 8113374, 2491621, 1043684, 1760488, 6139113, 6137066, 1060075, 3818731, 1529065, 5149941, 1139959, 2587898, 8459515, 7554305, 5354757, 9360649, 4341004, 1676567, 5913879, 2546967, 2049308, 8078621, 6403364, 9321765, 8287531, 3767596, 5698859, 1934638, 5520687, 4099374, 8865070, 8680758, 8545592, 6022456, 1699137, 7537990, 6679879, 4126025, 3919180, 7652691, 4533588, 8961365, 4762966, 456021, 1596760, 44376, 5455189, 474454, 7957852, 1535316, 7351646, 9403740, 7652704, 7820643, 5363048, 2776425, 6225259, 3076805, 7597427, 9897337, 4349307, 1322365, 771454, 2866560, 9801090, 7746950, 918919, 9739656, 7136648, 4339079, 9129358, 2741648, 1625489, 574869, 5033365, 9973143, 8521110, 3149209, 7599512, 361883, 7458207, 5129635, 6780323, 3587494, 6360489, 1910185, 5920174, 1506734, 4679089, 5797301, 2493881, 8308153, 8228283, 5311932, 5467579, 8723902, 949694, 8918464, 6233536, 5248456, 7646664, 1713609, 9909706, 728525, 6989265, 4335058, 5998033, 3907025, 4949468, 9440735, 9561567, 9885151, 5715426, 738787, 673254, 6995436, 6768108, 4449774, 6940144, 1809905, 1846770, 6696434, 9381364, 5692918, 1750520, 1652217, 3575290, 1807870, 4748801, 6372869, 4136458, 7255566, 4931091, 4451862, 6037017, 8705562, 5899804, 6516254, 8631838, 1152547, 2362916, 6178345, 2784811, 26157, 7876142, 6637103, 6944304, 9158195, 9375287, 2993720, 1168952, 3098170, 144955, 4679228, 1764925, 4243008, 4857411, 7857731, 4396614, 6229575, 3165768, 4472396, 9537104, 9663829, 8549973, 5924442, 6450779, 2469468, 4060767, 2244191, 9586272, 2539104, 2608736, 2526820, 7685738, 8697451, 222829, 8240753, 2715250, 1158771, 3604084, 6196855, 7511672, 5783162, 1478267, 8076922, 6770298, 7751294, 5207677, 6788735, 4605569, 6796923, 8472195, 1044100, 9674375, 1345162, 9031306, 726668, 5721739, 2072203, 134801, 790162, 3458707, 1906324, 8476306, 4097681, 9873046, 4439706, 3276443, 4759198, 3468958, 1187488, 4093599, 1236639, 1474211, 5998238, 7397034, 259756, 9143983, 362161, 44725, 36534, 3118774, 6287030, 7888574, 868035, 7284419, 1539781, 6028998, 7826402, 6063819, 566987, 2070218, 1785550, 6584017, 6313682, 599768, 2451161, 7347930, 6680281, 927449, 7225052, 3112667, 9213663, 8818402, 4830947, 8847074, 7278308, 4404967, 6067944, 6207208, 4271850, 4351723, 4689639, 8904425, 4943601, 2111221, 7651061, 2412277, 5631735, 7679740, 2350844, 5304066, 6053636, 6369029, 2100998, 5631748, 5902085, 696070, 466696, 9910023, 2119436, 6539016, 3817233, 1748754, 450322, 4837142, 9258777, 5754657, 28452, 3700518, 5949222, 4808488, 2543399, 4583210, 1763113, 208678, 1044268, 261926, 3094319, 4093747, 476982, 6938424, 2535226, 6317883, 6289214, 4753216, 3753792, 8974146, 9183043, 1236806, 841546, 5588810, 6874958, 2355022, 5812048, 8408913, 6094677, 1578838, 1935191, 9609048, 6354778, 4773724, 3262300, 8015714, 5740388, 9494373, 1779562, 2320234, 3553133, 235374, 4591473, 4880242, 4761459, 7542654, 1931137, 6991745, 1656707, 915334, 8210314, 7016330, 7546767, 5351312, 8931217, 1324946, 2058127, 6604692, 4583316, 4167568, 1826706, 73624, 3614619, 2578336, 9514913, 9490338, 1513379, 6629284, 9117614, 7346095, 4546479, 1963951, 5437361, 9648048, 2033591, 3645370, 9770939, 8470462, 1183680, 4614080, 5476292, 5398472, 2918347, 9222095, 6496209, 1167315, 9889752, 1411035, 2404316, 8996828, 7503838, 9168863, 2207712, 4413413, 815081, 3442670, 9390063, 4986865, 2621425, 243706, 7397371, 1486847}\n",
      "0.0625 seconds\n"
     ]
    }
   ],
   "source": [
    "# O（N）\n",
    "import random\n",
    "import time\n",
    "group_of_items=range(1,10000000)\n",
    "num_to_select=100000\n",
    "a=random.sample(group_of_items,num_to_select)\n",
    "b=random.sample(group_of_items,num_to_select)\n",
    "start_time=time.process_time()\n",
    "print(set(a).intersection(set(b)))\n",
    "print(time.process_time()-start_time,\"seconds\")\n"
   ]
  },
  {
   "cell_type": "code",
   "execution_count": 5,
   "metadata": {},
   "outputs": [
    {
     "name": "stdout",
     "output_type": "stream",
     "text": [
      "1292946\n",
      "8430311\n"
     ]
    },
    {
     "ename": "KeyboardInterrupt",
     "evalue": "",
     "output_type": "error",
     "traceback": [
      "\u001b[1;31m---------------------------------------------------------------------------\u001b[0m",
      "\u001b[1;31mKeyboardInterrupt\u001b[0m                         Traceback (most recent call last)",
      "\u001b[1;32m<ipython-input-5-f2c98eeb2071>\u001b[0m in \u001b[0;36m<module>\u001b[1;34m\u001b[0m\n\u001b[0;32m      8\u001b[0m \u001b[0mstart_time\u001b[0m\u001b[1;33m=\u001b[0m\u001b[0mtime\u001b[0m\u001b[1;33m.\u001b[0m\u001b[0mprocess_time\u001b[0m\u001b[1;33m(\u001b[0m\u001b[1;33m)\u001b[0m\u001b[1;33m\u001b[0m\u001b[1;33m\u001b[0m\u001b[0m\n\u001b[0;32m      9\u001b[0m \u001b[1;32mfor\u001b[0m \u001b[0mi\u001b[0m \u001b[1;32min\u001b[0m \u001b[0ma\u001b[0m\u001b[1;33m:\u001b[0m\u001b[1;33m\u001b[0m\u001b[1;33m\u001b[0m\u001b[0m\n\u001b[1;32m---> 10\u001b[1;33m     \u001b[1;32mfor\u001b[0m \u001b[0mj\u001b[0m \u001b[1;32min\u001b[0m \u001b[0mb\u001b[0m\u001b[1;33m:\u001b[0m\u001b[1;33m\u001b[0m\u001b[1;33m\u001b[0m\u001b[0m\n\u001b[0m\u001b[0;32m     11\u001b[0m         \u001b[1;32mif\u001b[0m \u001b[0mi\u001b[0m\u001b[1;33m==\u001b[0m\u001b[0mj\u001b[0m\u001b[1;33m:\u001b[0m\u001b[1;33m\u001b[0m\u001b[1;33m\u001b[0m\u001b[0m\n\u001b[0;32m     12\u001b[0m             \u001b[0mprint\u001b[0m\u001b[1;33m(\u001b[0m\u001b[0mi\u001b[0m\u001b[1;33m)\u001b[0m\u001b[1;33m\u001b[0m\u001b[1;33m\u001b[0m\u001b[0m\n",
      "\u001b[1;31mKeyboardInterrupt\u001b[0m: "
     ]
    }
   ],
   "source": [
    "# O（N^2）\n",
    "import random\n",
    "import time\n",
    "group_of_items=range(1,10000000)\n",
    "num_to_select=100000\n",
    "a=random.sample(group_of_items,num_to_select)\n",
    "b=random.sample(group_of_items,num_to_select)\n",
    "start_time=time.process_time()\n",
    "for i in a:\n",
    "    for j in b:\n",
    "        if i==j:\n",
    "            print(i)\n",
    "print(time.process_time()-start_time,\"seconds\")\n"
   ]
  },
  {
   "cell_type": "code",
   "execution_count": 20,
   "metadata": {},
   "outputs": [
    {
     "name": "stdout",
     "output_type": "stream",
     "text": [
      "[49, 56, 35, 60, 96, 78, 55, 24, 31, 84, 59]\n",
      "[64, 87, 87, 65, 73, 33, 68, 75, 20, 3, 36, 12, 59, 53]\n",
      "[59]\n"
     ]
    }
   ],
   "source": [
    "# Tracy Extra\n",
    "\n",
    "import random\n",
    "a =[random.randrange(0,100) for i in range(11)]\n",
    "b=[random.randrange(0,100) for i in range(14)]\n",
    "\n",
    "print (a)\n",
    "print (b)\n",
    "print (list(set(b).intersection(a)))\n"
   ]
  },
  {
   "cell_type": "markdown",
   "metadata": {},
   "source": [
    "# Exercise 6\n",
    "* Ask the user for a string and print out whether this string is a palindrome or not. \n",
    "    * A palindrome is a string that reads the same forwards and backwards."
   ]
  },
  {
   "cell_type": "code",
   "execution_count": 23,
   "metadata": {},
   "outputs": [
    {
     "name": "stdout",
     "output_type": "stream",
     "text": [
      "Please enter a wordabba\n",
      "abba\n",
      "This word is a palindrome\n"
     ]
    }
   ],
   "source": [
    "#Ryan Syntax\n",
    "\n",
    "wrd=input(\"Please enter a word\")\n",
    "wrd=str(wrd)\n",
    "rvs=wrd[::-1]\n",
    "print(rvs)\n",
    "if wrd==rvs:\n",
    "    print(\"This word is a palindrome\")\n",
    "else:\n",
    "    print(\"This word is not a palindrome\")"
   ]
  },
  {
   "cell_type": "code",
   "execution_count": null,
   "metadata": {},
   "outputs": [],
   "source": [
    "#Tracy Syntax\n",
    "\n",
    "while True:\n",
    "    Var=input('Please enter a word: ')\n",
    "    a=list(Var)\n",
    "    b=(list(reversed(Var)))\n",
    "\n",
    "    if a==b:\n",
    "        print('This string is a Palindrome')\n",
    "        print('\\n')\n",
    "    else:\n",
    "        print ('This string is NOT a Palindrome')\n",
    "        print('\\n')"
   ]
  }
 ],
 "metadata": {
  "kernelspec": {
   "display_name": "Python 3",
   "language": "python",
   "name": "python3"
  },
  "language_info": {
   "codemirror_mode": {
    "name": "ipython",
    "version": 3
   },
   "file_extension": ".py",
   "mimetype": "text/x-python",
   "name": "python",
   "nbconvert_exporter": "python",
   "pygments_lexer": "ipython3",
   "version": "3.7.3"
  }
 },
 "nbformat": 4,
 "nbformat_minor": 2
}
